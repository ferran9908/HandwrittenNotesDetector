{
 "cells": [
  {
   "cell_type": "code",
   "execution_count": 1,
   "metadata": {},
   "outputs": [],
   "source": [
    "import tensorflow as tf\n",
    "import numpy as np\n",
    "from tensorflow.keras.preprocessing.image import ImageDataGenerator"
   ]
  },
  {
   "cell_type": "code",
   "execution_count": 2,
   "metadata": {},
   "outputs": [
    {
     "name": "stdout",
     "output_type": "stream",
     "text": [
      "Found 560 images belonging to 2 classes.\n",
      "Found 366 images belonging to 2 classes.\n"
     ]
    }
   ],
   "source": [
    "\n",
    "train_dir = 'train'\n",
    "validation_dir = 'test'\n",
    "\n",
    "\n",
    "train_datagen = ImageDataGenerator(rescale = 1./255.,\n",
    "                                   rotation_range = 40,\n",
    "                                   width_shift_range = 0.2,\n",
    "                                   height_shift_range = 0.2,\n",
    "                                   shear_range = 0.2,\n",
    "                                   zoom_range = 0.2,\n",
    "                                   horizontal_flip = True)\n",
    "\n",
    "\n",
    "test_datagen = ImageDataGenerator(rescale = 1./255.)\n",
    "\n",
    "train_generator = train_datagen.flow_from_directory(train_dir,batch_size = 20,target_size = (150,150),class_mode = 'binary')     \n",
    "\n",
    "validation_generator =  test_datagen.flow_from_directory( validation_dir,batch_size = 20,target_size = (150,150),class_mode = 'binary')\n",
    "\n"
   ]
  },
  {
   "cell_type": "code",
   "execution_count": 4,
   "metadata": {},
   "outputs": [
    {
     "name": "stderr",
     "output_type": "stream",
     "text": [
      "W0913 22:26:27.138051 4578719168 deprecation.py:323] From /usr/local/lib/python3.7/site-packages/tensorflow/python/ops/nn_impl.py:180: add_dispatch_support.<locals>.wrapper (from tensorflow.python.ops.array_ops) is deprecated and will be removed in a future version.\n",
      "Instructions for updating:\n",
      "Use tf.where in 2.0, which has the same broadcast rule as np.where\n"
     ]
    }
   ],
   "source": [
    "\n",
    "model = tf.keras.models.Sequential([\n",
    "tf.keras.layers.Conv2D(16,(3,3),activation='relu',input_shape = (150,150,3)),\n",
    "tf.keras.layers.MaxPooling2D(2,2),\n",
    "tf.keras.layers.Conv2D(32,(3,3),activation='relu'),\n",
    "tf.keras.layers.MaxPool2D(2,2),\n",
    "tf.keras.layers.Conv2D(64,(3,3),activation='relu'),\n",
    "tf.keras.layers.MaxPool2D(2,2),\n",
    "tf.keras.layers.Flatten(),\n",
    "tf.keras.layers.Dense(512,activation='relu'),\n",
    "tf.keras.layers.Dense(128,activation= 'relu'),\n",
    "tf.keras.layers.Dense(1,activation='sigmoid')\n",
    "])\n",
    "\n",
    "model.compile(optimizer='adam', loss='binary_crossentropy', metrics=['acc'])"
   ]
  },
  {
   "cell_type": "code",
   "execution_count": 5,
   "metadata": {},
   "outputs": [
    {
     "name": "stdout",
     "output_type": "stream",
     "text": [
      "Epoch 1/15\n",
      " 1/28 [>.............................] - ETA: 53s - loss: 0.6826 - acc: 0.6000"
     ]
    },
    {
     "name": "stderr",
     "output_type": "stream",
     "text": [
      "/usr/local/lib/python3.7/site-packages/PIL/Image.py:965: UserWarning: Palette images with Transparency   expressed in bytes should be converted to RGBA images\n",
      "  ' expressed in bytes should be converted ' +\n"
     ]
    },
    {
     "name": "stdout",
     "output_type": "stream",
     "text": [
      "28/28 [==============================] - 69s 2s/step - loss: 0.7697 - acc: 0.6446 - val_loss: 0.4119 - val_acc: 0.8689\n",
      "Epoch 2/15\n",
      "28/28 [==============================] - 55s 2s/step - loss: 0.4085 - acc: 0.8286 - val_loss: 0.2747 - val_acc: 0.8907\n",
      "Epoch 3/15\n",
      "28/28 [==============================] - 55s 2s/step - loss: 0.3316 - acc: 0.8500 - val_loss: 0.4030 - val_acc: 0.8115\n",
      "Epoch 4/15\n",
      "28/28 [==============================] - 55s 2s/step - loss: 0.3493 - acc: 0.8625 - val_loss: 0.1922 - val_acc: 0.9344\n",
      "Epoch 5/15\n",
      "28/28 [==============================] - 55s 2s/step - loss: 0.2538 - acc: 0.8982 - val_loss: 0.1553 - val_acc: 0.9344\n",
      "Epoch 6/15\n",
      "28/28 [==============================] - 54s 2s/step - loss: 0.2631 - acc: 0.9000 - val_loss: 0.1298 - val_acc: 0.9536\n",
      "Epoch 7/15\n",
      "28/28 [==============================] - 55s 2s/step - loss: 0.2611 - acc: 0.8929 - val_loss: 0.1779 - val_acc: 0.9426\n",
      "Epoch 8/15\n",
      "28/28 [==============================] - 59s 2s/step - loss: 0.2209 - acc: 0.9125 - val_loss: 0.1767 - val_acc: 0.9208\n",
      "Epoch 9/15\n",
      "28/28 [==============================] - 58s 2s/step - loss: 0.1834 - acc: 0.9321 - val_loss: 0.2117 - val_acc: 0.9126\n",
      "Epoch 10/15\n",
      "28/28 [==============================] - 55s 2s/step - loss: 0.1957 - acc: 0.9357 - val_loss: 0.2844 - val_acc: 0.9126\n",
      "Epoch 11/15\n",
      "28/28 [==============================] - 56s 2s/step - loss: 0.2083 - acc: 0.9250 - val_loss: 0.2800 - val_acc: 0.9044\n",
      "Epoch 12/15\n",
      "28/28 [==============================] - 56s 2s/step - loss: 0.2032 - acc: 0.9196 - val_loss: 0.1860 - val_acc: 0.9372\n",
      "Epoch 13/15\n",
      "28/28 [==============================] - 56s 2s/step - loss: 0.2129 - acc: 0.9179 - val_loss: 0.1402 - val_acc: 0.9454\n",
      "Epoch 14/15\n",
      "28/28 [==============================] - 56s 2s/step - loss: 0.1641 - acc: 0.9375 - val_loss: 0.1648 - val_acc: 0.9344\n",
      "Epoch 15/15\n",
      "28/28 [==============================] - 55s 2s/step - loss: 0.2230 - acc: 0.9179 - val_loss: 0.2342 - val_acc: 0.9208\n"
     ]
    }
   ],
   "source": [
    "history = model.fit_generator(train_generator,\n",
    "                              epochs=15,\n",
    "                              verbose=1,\n",
    "                              validation_data=validation_generator)"
   ]
  },
  {
   "cell_type": "code",
   "execution_count": 6,
   "metadata": {},
   "outputs": [
    {
     "data": {
      "text/plain": [
       "Text(0.5, 1.0, 'Training and validation loss')"
      ]
     },
     "execution_count": 6,
     "metadata": {},
     "output_type": "execute_result"
    },
    {
     "data": {
      "image/png": "[encoded data removed]",
      "text/plain": [
       "<Figure size 432x288 with 1 Axes>"
      ]
     },
     "metadata": {
      "needs_background": "light"
     },
     "output_type": "display_data"
    },
    {
     "data": {
      "image/png": "[encoded data removed]",
      "text/plain": [
       "<Figure size 432x288 with 1 Axes>"
      ]
     },
     "metadata": {
      "needs_background": "light"
     },
     "output_type": "display_data"
    }
   ],
   "source": [
    "# PLOT LOSS AND ACCURACY\n",
    "%matplotlib inline\n",
    "\n",
    "import matplotlib.image  as mpimg\n",
    "import matplotlib.pyplot as plt\n",
    "\n",
    "#-----------------------------------------------------------\n",
    "# Retrieve a list of list results on training and test data\n",
    "# sets for each training epoch\n",
    "#-----------------------------------------------------------\n",
    "acc=history.history['acc']\n",
    "val_acc=history.history['val_acc']\n",
    "loss=history.history['loss']\n",
    "val_loss=history.history['val_loss']\n",
    "\n",
    "epochs=range(len(acc)) # Get number of epochs\n",
    "\n",
    "#------------------------------------------------\n",
    "# Plot training and validation accuracy per epoch\n",
    "#------------------------------------------------\n",
    "plt.plot(epochs, acc, 'r', \"Training Accuracy\")\n",
    "plt.plot(epochs, val_acc, 'b', \"Validation Accuracy\")\n",
    "plt.title('Training and validation accuracy')\n",
    "plt.figure()\n",
    "\n",
    "#------------------------------------------------\n",
    "# Plot training and validation loss per epoch\n",
    "#------------------------------------------------\n",
    "plt.plot(epochs, loss, 'r', \"Training Loss\")\n",
    "plt.plot(epochs, val_loss, 'b', \"Validation Loss\")\n",
    "\n",
    "\n",
    "plt.title('Training and validation loss')\n",
    "\n",
    "# Desired output. Charts with training and validation metrics. No crash :)"
   ]
  },
  {
   "cell_type": "code",
   "execution_count": 7,
   "metadata": {},
   "outputs": [],
   "source": [
    "model.save('model.h5')"
   ]
  },
  {
   "cell_type": "code",
   "execution_count": null,
   "metadata": {},
   "outputs": [],
   "source": []
  }
 ],
 "metadata": {
  "kernelspec": {
   "display_name": "Python 3",
   "language": "python",
   "name": "python3"
  },
  "language_info": {
   "codemirror_mode": {
    "name": "ipython",
    "version": 3
   },
   "file_extension": ".py",
   "mimetype": "text/x-python",
   "name": "python",
   "nbconvert_exporter": "python",
   "pygments_lexer": "ipython3",
   "version": "3.7.3"
  }
 },
 "nbformat": 4,
 "nbformat_minor": 2
}
